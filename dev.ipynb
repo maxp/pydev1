{
 "cells": [
  {
   "cell_type": "code",
   "execution_count": 2,
   "id": "be4c651d-c86e-4ac7-a3cb-9dde4f327b75",
   "metadata": {},
   "outputs": [],
   "source": [
    "import app.database as d"
   ]
  },
  {
   "cell_type": "code",
   "execution_count": 9,
   "id": "b3df3ebb-2102-4ca6-83e7-966999de98d5",
   "metadata": {},
   "outputs": [],
   "source": [
    "from app.config import get_settings\n",
    "conf = get_settings()"
   ]
  },
  {
   "cell_type": "code",
   "execution_count": 10,
   "id": "675e858c-63d2-4136-abca-e7482904289c",
   "metadata": {},
   "outputs": [
    {
     "data": {
      "text/plain": [
       "Settings(app_name='FastAPI App', database_url='sqlite+aiosqlite:///./tmp/pydev1.db', database_debug=True)"
      ]
     },
     "execution_count": 10,
     "metadata": {},
     "output_type": "execute_result"
    }
   ],
   "source": [
    "conf"
   ]
  },
  {
   "cell_type": "code",
   "execution_count": 5,
   "id": "24c51c05-3aa3-4a6c-81c3-6fd18f2169ec",
   "metadata": {},
   "outputs": [],
   "source": [
    "\n",
    "from sqlalchemy.ext.asyncio import create_async_engine\n",
    "from sqlalchemy.engine import Connection\n",
    "from sqlalchemy import pool\n",
    "\n",
    "def run_migrations_online() -> None:\n",
    "    \n",
    "    connectable = create_async_engine(\n",
    "        conf.database_url,\n",
    "        poolclass=pool.NullPool,\n",
    "    )\n",
    "\n",
    "    async def do_run_migrations(connection: Connection) -> None:\n",
    "        context.configure(connection=connection, target_metadata=target_metadata)\n",
    "        \n",
    "        with context.begin_transaction():\n",
    "            context.run_migrations()\n",
    "\n",
    "    async def run_async_migrations() -> None:\n",
    "        async with connectable.connect() as connection:\n",
    "            await connection.run_sync(do_run_migrations)\n",
    "\n",
    "    import asyncio\n",
    "    asyncio.run(run_async_migrations())"
   ]
  },
  {
   "cell_type": "code",
   "execution_count": 6,
   "id": "a6cf89ee-4abf-45f0-9224-a50506e5fb8f",
   "metadata": {},
   "outputs": [
    {
     "ename": "NameError",
     "evalue": "name 'config' is not defined",
     "output_type": "error",
     "traceback": [
      "\u001b[31m---------------------------------------------------------------------------\u001b[39m",
      "\u001b[31mNameError\u001b[39m                                 Traceback (most recent call last)",
      "\u001b[36mCell\u001b[39m\u001b[36m \u001b[39m\u001b[32mIn[6]\u001b[39m\u001b[32m, line 1\u001b[39m\n\u001b[32m----> \u001b[39m\u001b[32m1\u001b[39m \u001b[43mrun_migrations_online\u001b[49m\u001b[43m(\u001b[49m\u001b[43m)\u001b[49m\n",
      "\u001b[36mCell\u001b[39m\u001b[36m \u001b[39m\u001b[32mIn[5]\u001b[39m\u001b[32m, line 10\u001b[39m, in \u001b[36mrun_migrations_online\u001b[39m\u001b[34m()\u001b[39m\n\u001b[32m      6\u001b[39m \u001b[38;5;28;01mdef\u001b[39;00m\u001b[38;5;250m \u001b[39m\u001b[34mrun_migrations_online\u001b[39m() -> \u001b[38;5;28;01mNone\u001b[39;00m:\n\u001b[32m      7\u001b[39m \u001b[38;5;250m    \u001b[39m\u001b[33;03m\"\"\"Run migrations in 'online' mode.\"\"\"\u001b[39;00m\n\u001b[32m      9\u001b[39m     connectable = create_async_engine(\n\u001b[32m---> \u001b[39m\u001b[32m10\u001b[39m         \u001b[43mconfig\u001b[49m.get_main_option(\u001b[33m\"\u001b[39m\u001b[33msqlalchemy.url\u001b[39m\u001b[33m\"\u001b[39m),\n\u001b[32m     11\u001b[39m         poolclass=pool.NullPool,\n\u001b[32m     12\u001b[39m     )\n\u001b[32m     14\u001b[39m     \u001b[38;5;28;01masync\u001b[39;00m \u001b[38;5;28;01mdef\u001b[39;00m\u001b[38;5;250m \u001b[39m\u001b[34mdo_run_migrations\u001b[39m(connection: Connection) -> \u001b[38;5;28;01mNone\u001b[39;00m:\n\u001b[32m     15\u001b[39m         context.configure(connection=connection, target_metadata=target_metadata)\n",
      "\u001b[31mNameError\u001b[39m: name 'config' is not defined"
     ]
    }
   ],
   "source": [
    "run_migrations_online()"
   ]
  },
  {
   "cell_type": "code",
   "execution_count": 11,
   "id": "57e447f4-2dbf-4edf-96a9-3753a8dc5850",
   "metadata": {},
   "outputs": [],
   "source": [
    "import app.models as mdl"
   ]
  },
  {
   "cell_type": "code",
   "execution_count": 13,
   "id": "a5cd757f-1f1e-4948-84d1-f573f298012d",
   "metadata": {},
   "outputs": [
    {
     "data": {
      "text/plain": [
       "1"
      ]
     },
     "execution_count": 13,
     "metadata": {},
     "output_type": "execute_result"
    }
   ],
   "source": [
    "mdl.TaskState.ACTIVE.value"
   ]
  }
 ],
 "metadata": {
  "kernelspec": {
   "display_name": "Python 3 (ipykernel)",
   "language": "python",
   "name": "python3"
  },
  "language_info": {
   "codemirror_mode": {
    "name": "ipython",
    "version": 3
   },
   "file_extension": ".py",
   "mimetype": "text/x-python",
   "name": "python",
   "nbconvert_exporter": "python",
   "pygments_lexer": "ipython3",
   "version": "3.12.11"
  }
 },
 "nbformat": 4,
 "nbformat_minor": 5
}
